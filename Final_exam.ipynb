{
 "cells": [
  {
   "cell_type": "code",
   "execution_count": 1,
   "metadata": {},
   "outputs": [
    {
     "data": {
      "text/plain": [
       "0.4375"
      ]
     },
     "execution_count": 1,
     "metadata": {},
     "output_type": "execute_result"
    }
   ],
   "source": [
    "# Q5\n",
    "1*1/8+2*1/16+3*1/16"
   ]
  },
  {
   "cell_type": "code",
   "execution_count": 4,
   "metadata": {},
   "outputs": [
    {
     "data": {
      "text/plain": [
       "0.74609375"
      ]
     },
     "execution_count": 4,
     "metadata": {},
     "output_type": "execute_result"
    }
   ],
   "source": [
    "# Q6\n",
    "E=1*1/8+2*1/16+3*1/16\n",
    "Var=(0-E)**2*3/4+(1-E)**2*1/8+(2-E)**2*1/16+(3-E)**2*1/16\n",
    "Var"
   ]
  },
  {
   "cell_type": "code",
   "execution_count": 7,
   "metadata": {},
   "outputs": [
    {
     "data": {
      "text/plain": [
       "1.24951171875"
      ]
     },
     "execution_count": 7,
     "metadata": {},
     "output_type": "execute_result"
    }
   ],
   "source": [
    "# Q7\n",
    "Skew=(0-E)**3*3/4+(1-E)**3*1/8+(2-E)**3*1/16+(3-E)**3*1/16\n",
    "Skew"
   ]
  },
  {
   "cell_type": "code",
   "execution_count": 11,
   "metadata": {},
   "outputs": [
    {
     "data": {
      "text/plain": [
       "0.01831563888873422"
      ]
     },
     "execution_count": 11,
     "metadata": {},
     "output_type": "execute_result"
    }
   ],
   "source": [
    "# Q8\n",
    "# 2時間では4件　Fx=P(X<=4)\n",
    "import math\n",
    "Fx=1-math.exp(-4)\n",
    "1-Fx"
   ]
  },
  {
   "cell_type": "code",
   "execution_count": 12,
   "metadata": {},
   "outputs": [
    {
     "name": "stdout",
     "output_type": "stream",
     "text": [
      "[[0.6 0.3 0.1]\n",
      " [0.3 0.4 0.3]\n",
      " [0.1 0.7 0.2]]\n",
      "[[0.46 0.37 0.17]\n",
      " [0.33 0.46 0.21]\n",
      " [0.29 0.45 0.26]]\n"
     ]
    }
   ],
   "source": [
    "# Q11\n",
    "import numpy as np\n",
    "A=np.array([[6,3,1],[3,4,3],[1,7,2]])*0.1\n",
    "print(A)\n",
    "B=A@A\n",
    "print(B)"
   ]
  },
  {
   "cell_type": "code",
   "execution_count": 21,
   "metadata": {},
   "outputs": [
    {
     "name": "stdout",
     "output_type": "stream",
     "text": [
      "8.4 5.416666666666667\n",
      "2.608 4.729666666666668\n",
      "2.2621571627409915\n",
      "(0.48168569569679587, 5.484980970969871)\n",
      "Ttest_indResult(statistic=2.6977295952118747, pvalue=0.02240049733296778)\n"
     ]
    }
   ],
   "source": [
    "# Q12\n",
    "import numpy as np\n",
    "from scipy import stats\n",
    "\n",
    "alpha = 0.95\n",
    "x = np.array([9.0, 8.5, 9.3, 6.0, 10.5, 7.1])\n",
    "y = np.array([5.0, 8.8, 3.8, 2.6, 5.7, 6.6])\n",
    "n = len(x)\n",
    "m = len(y)\n",
    "X_ = np.mean(x)\n",
    "Y_ = np.mean(y)\n",
    "s1 = np.var(x, ddof=1)\n",
    "s2 = np.var(y, ddof=1)\n",
    "\n",
    "temp = s1 / m + s2 / n\n",
    "nu = temp * temp / (s1 * s1 / (m * m * (m - 1)) + s2 * s2 / (n * n * (n - 1)))\n",
    "t = stats.t.ppf(alpha + (1 - alpha) / 2, round(nu))\n",
    "mean_sub = (X_ - Y_ - t * np.sqrt(temp), X_ - Y_ + t * np.sqrt(temp))\n",
    "res = stats.ttest_ind(x, y)\n",
    "\n",
    "print(X_, Y_)\n",
    "print(s1, s2)\n",
    "print(t)\n",
    "print(mean_sub)\n",
    "print(res)"
   ]
  },
  {
   "cell_type": "code",
   "execution_count": 22,
   "metadata": {},
   "outputs": [
    {
     "name": "stdout",
     "output_type": "stream",
     "text": [
      "8.883333333333335 5.3\n",
      "4.957666666666666 3.588\n",
      "2.2281388519649385\n",
      "(0.924203144107012, 6.242463522559658)\n",
      "Ttest_indResult(statistic=3.0025473186267857, pvalue=0.013285701656250032)\n"
     ]
    }
   ],
   "source": [
    "# Q13\n",
    "import numpy as np\n",
    "from scipy import stats\n",
    "\n",
    "alpha = 0.95\n",
    "x = np.array([10.5, 5.5, 10.1, 7.2, 11.4, 8.6])\n",
    "y = np.array([6.1, 7.5, 3.4, 2.8, 5.1, 6.9])\n",
    "n = len(x)\n",
    "m = len(y)\n",
    "X_ = np.mean(x)\n",
    "Y_ = np.mean(y)\n",
    "s1 = np.var(x, ddof=1)\n",
    "s2 = np.var(y, ddof=1)\n",
    "\n",
    "temp = s1 / m + s2 / n\n",
    "nu = temp * temp / (s1 * s1 / (m * m * (m - 1)) + s2 * s2 / (n * n * (n - 1)))\n",
    "t = stats.t.ppf(alpha + (1 - alpha) / 2, round(nu))\n",
    "mean_sub = (X_ - Y_ - t * np.sqrt(temp), X_ - Y_ + t * np.sqrt(temp))\n",
    "res = stats.ttest_ind(x, y)\n",
    "\n",
    "print(X_, Y_)\n",
    "print(s1, s2)\n",
    "print(t)\n",
    "print(mean_sub)\n",
    "print(res)"
   ]
  },
  {
   "cell_type": "code",
   "execution_count": 23,
   "metadata": {},
   "outputs": [
    {
     "name": "stdout",
     "output_type": "stream",
     "text": [
      "[[0.59818298]]\n",
      "[24.32993306]\n",
      "0.5964612444913476\n"
     ]
    }
   ],
   "source": [
    "# Q22\n",
    "import numpy as np\n",
    "\n",
    "height = np.array([40, 40, 56, 47, 115, 36, 72, 56])\n",
    "weight = np.array([69, 32, 67, 40, 97, 55, 62, 49])\n",
    "\n",
    "X=height.reshape(-1,1)\n",
    "Y=weight.reshape(-1,1)\n",
    "\n",
    "from sklearn import linear_model\n",
    "clf = linear_model.LinearRegression()\n",
    "clf.fit(X, Y)\n",
    "\n",
    "# 回帰係数\n",
    "print(clf.coef_)\n",
    " \n",
    "# 切片 (誤差)\n",
    "print(clf.intercept_)\n",
    " \n",
    "# 決定係数\n",
    "print(clf.score(X, Y))"
   ]
  },
  {
   "cell_type": "code",
   "execution_count": 24,
   "metadata": {},
   "outputs": [
    {
     "name": "stdout",
     "output_type": "stream",
     "text": [
      "[[0.74736048]]\n",
      "[16.80165913]\n",
      "0.7438349827820743\n"
     ]
    }
   ],
   "source": [
    "# Q23\n",
    "import numpy as np\n",
    "\n",
    "height = np.array([54, 26, 72, 55, 104, 31, 78, 55, 80])\n",
    "weight = np.array([57, 29, 59, 54, 107, 52, 59, 71, 78])\n",
    "\n",
    "X=height.reshape(-1,1)\n",
    "Y=weight.reshape(-1,1)\n",
    "\n",
    "from sklearn import linear_model\n",
    "clf = linear_model.LinearRegression()\n",
    "clf.fit(X, Y)\n",
    "\n",
    "# 回帰係数\n",
    "print(clf.coef_)\n",
    " \n",
    "# 切片 (誤差)\n",
    "print(clf.intercept_)\n",
    " \n",
    "# 決定係数\n",
    "print(clf.score(X, Y))"
   ]
  },
  {
   "cell_type": "code",
   "execution_count": 27,
   "metadata": {},
   "outputs": [
    {
     "data": {
      "text/plain": [
       "array([[ 8.48528137e-01,  5.55111512e-17],\n",
       "       [-8.48528137e-01,  5.55111512e-17]])"
      ]
     },
     "execution_count": 27,
     "metadata": {},
     "output_type": "execute_result"
    }
   ],
   "source": [
    "# Q24\n",
    "import numpy as np\n",
    "from sklearn.decomposition import PCA\n",
    "features = np.array([[1, -0.2], [-0.2, 1]])\n",
    "pca = PCA()\n",
    "pca.fit(features)\n",
    "transformed = pca.fit_transform(features)\n",
    "transformed"
   ]
  },
  {
   "cell_type": "code",
   "execution_count": null,
   "metadata": {},
   "outputs": [],
   "source": []
  }
 ],
 "metadata": {
  "kernelspec": {
   "display_name": "Python 3",
   "language": "python",
   "name": "python3"
  },
  "language_info": {
   "codemirror_mode": {
    "name": "ipython",
    "version": 3
   },
   "file_extension": ".py",
   "mimetype": "text/x-python",
   "name": "python",
   "nbconvert_exporter": "python",
   "pygments_lexer": "ipython3",
   "version": "3.6.4"
  }
 },
 "nbformat": 4,
 "nbformat_minor": 2
}
