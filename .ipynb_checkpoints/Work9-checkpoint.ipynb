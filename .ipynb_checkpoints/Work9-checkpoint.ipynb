{
 "cells": [
  {
   "cell_type": "code",
   "execution_count": 25,
   "metadata": {},
   "outputs": [
    {
     "name": "stdout",
     "output_type": "stream",
     "text": [
      "[[0.34992978]]\n",
      "[3.75658771]\n",
      "0.2996685178566162\n"
     ]
    }
   ],
   "source": [
    "import numpy as np\n",
    "\n",
    "height = np.array([160.3, 156.9, 157.8, 165.6, 169.9, 172.5, 172.1])\n",
    "weight = np.array([53.0, 60.9, 63.1, 59.5, 64.2, 64.2, 65.6])\n",
    "\n",
    "X=height.reshape(-1,1)\n",
    "Y=weight.reshape(-1,1)\n",
    "\n",
    "from sklearn import linear_model\n",
    "clf = linear_model.LinearRegression()\n",
    "clf.fit(X, Y)\n",
    "\n",
    "# 回帰係数\n",
    "print(clf.coef_)\n",
    " \n",
    "# 切片 (誤差)\n",
    "print(clf.intercept_)\n",
    " \n",
    "# 決定係数\n",
    "print(clf.score(X, Y))"
   ]
  },
  {
   "cell_type": "code",
   "execution_count": null,
   "metadata": {},
   "outputs": [],
   "source": []
  }
 ],
 "metadata": {
  "kernelspec": {
   "display_name": "Python 3",
   "language": "python",
   "name": "python3"
  },
  "language_info": {
   "codemirror_mode": {
    "name": "ipython",
    "version": 3
   },
   "file_extension": ".py",
   "mimetype": "text/x-python",
   "name": "python",
   "nbconvert_exporter": "python",
   "pygments_lexer": "ipython3",
   "version": "3.6.4"
  }
 },
 "nbformat": 4,
 "nbformat_minor": 2
}
